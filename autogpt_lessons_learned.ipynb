{
 "cells": [
  {
   "attachments": {},
   "cell_type": "markdown",
   "metadata": {},
   "source": [
    "# AutoGPT lessons learned\n",
    "\n",
    "# What is AutoGPT?"
   ]
  },
  {
   "cell_type": "code",
   "execution_count": 1,
   "metadata": {},
   "outputs": [
    {
     "name": "stdout",
     "output_type": "stream",
     "text": [
      "Prompt for https://bard.google.com/: What is AutoGPT? Show the output in markdown format\n"
     ]
    }
   ],
   "source": [
    "prompt = \"What is AutoGPT? Show the output in markdown format and summarize it in 3 lines\"\n",
    "print(f\"Prompt for https://bard.google.com/: {prompt}\")"
   ]
  },
  {
   "attachments": {},
   "cell_type": "markdown",
   "metadata": {},
   "source": [
    "AutoGPT is an open-source, experimental application that uses OpenAI's GPT-4 or GPT-3.5 APIs to attempt to achieve a given goal in natural language by breaking it down into sub-tasks and using the internet and other tools in an automatic loop.\n",
    "\n",
    "* Open-source, experimental application\n",
    "* Uses GPT-4 or GPT-3.5 APIs\n",
    "* Attempts to achieve a given goal in natural language\n",
    "\n",
    "**Summary:**\n",
    "\n",
    "* AutoGPT is an open-source application that uses GPT-4 or GPT-3.5 to achieve goals in natural language.\n",
    "* It breaks down goals into sub-tasks and uses the internet and other tools to complete them.\n",
    "* AutoGPT is still under development, but it has the potential to be a powerful tool for automating tasks."
   ]
  },
  {
   "attachments": {},
   "cell_type": "markdown",
   "metadata": {},
   "source": [
    "> Note\n",
    "Instead of the recommended way of downloading and unzipping the release, I found it better to \n",
    ">\n",
    "> `git clone https://github.com/Significant-Gravitas/Auto-GPT.git && git checkout stable`\n",
    ">\n",
    "> This way you get the latest updates while keeping the work that you have already done. To update use\n",
    ">\n",
    "> `git pull --rebase`\n",
    ">\n",
    "> This became very handy when I had my commit which added a `try/except` block to continue when it threw exceptions when trying to connect to OpenAI"
   ]
  },
  {
   "attachments": {},
   "cell_type": "markdown",
   "metadata": {},
   "source": [
    "# Goals set for AutoGPT\n",
    "\n",
    "When starting AutoGPT using [run.sh](https://github.com/Significant-Gravitas/Auto-GPT/blob/master/docs/usage.md) it prompts you for your goals. Here are my goals for Modern Python Development using ChatGPT\n",
    "\n",
    "```yaml\n",
    "ai_goals:\n",
    "- Make a money making course\n",
    "- Make course readers 10X more productive in a measurable way leveraging chatgpt in their day to day workflow. Use examples and exercises on how ChatGPT can be incorporated to alleviate their pain points.\n",
    "- Development workflow leveraging chatgpt must be better than using Stack Overflow and Google for python\n",
    "  development\n",
    "- Make marketing material releasable at the right times for increase revenue for the\n",
    "  course\n",
    "- autonomously help developer leverage ChatGPT to be OKR driven throughout SDLC, requirements gathering,design,\n",
    "  architecture, implementation, PR, commit message, coding with SOLID principles,\n",
    "  testing, deployment, observability, communication to stakeholders using product oriented mindset.\n",
    "ai_name: Modern-Python-Development-AutoGPT\n",
    "ai_role: an AI designed to autonomously develop a money making course in modern python\n",
    "  development workflow course that makes developers 10X more productive using ChatGPT\n",
    "  in their development workflow on a day to day basis.\n",
    "```"
   ]
  },
  {
   "attachments": {},
   "cell_type": "markdown",
   "metadata": {},
   "source": [
    "# AutoGPT Pros and Cons\n",
    "\n",
    "## Pros\n",
    "\n",
    "* Generates a very good to do list and items that you didn't think before\n",
    "* Does the google search and finds prompts to ask ChatGPT\n",
    "* You can redirect its efforts by providing feedback\n",
    "* Helps you in breaking down a complex tasks so that you can focus on one step at a time\n",
    "* Ability to disable tasks such as send tweet etc.(Recently added)\n",
    "\n",
    "## Cons\n",
    "\n",
    "* Thangachiya naai kaduchiduchupa (தங்கச்சிய நாய் கடிச்சிடிச்சுப்பா ) problem \n",
    "\n",
    "![என் தங்கச்சிய நாய் கடிச்சிடிச்சுப்பா](img/enthangachi.jpg)\n",
    "\n",
    " [Thangachiya naai kaduchiduchupa Video] (https://www.youtube.com/watch?v=Y8nYBvlF3fc)\n",
    "\n",
    "* Goes off in a tangent and has to be constantly brought back to focus (I don't need an another mini-me)\n",
    "* Crashes frequently and combined with the above two problems you have a real problem at hand\n",
    "* On a slow and old computer like mine it is very slow. Spends a lot of time `Thinking`\n",
    "* Couldn't get image generation working. Didn't try other plugins\n"
   ]
  },
  {
   "attachments": {},
   "cell_type": "markdown",
   "metadata": {},
   "source": [
    "# Sample Output\n",
    "\n",
    "## Course Outline\n",
    "\n",
    "```\n",
    "Course Content:\n",
    "\n",
    "1. Introduction to ChatGPT and its capabilities in Python development\n",
    "2. Incorporating ChatGPT into the SDLC\n",
    "3. Using ChatGPT for requirements gathering\n",
    "4. Using ChatGPT for design and architecture\n",
    "5. Using ChatGPT for implementation\n",
    "6. Using ChatGPT for PR and commit messages\n",
    "7. Using ChatGPT for coding with SOLID principles\n",
    "8. Using ChatGPT for testing\n",
    "9. Using ChatGPT for deployment\n",
    "10. Using ChatGPT for observability\n",
    "11. Using ChatGPT for communication to stakeholders using a product-oriented mindset\n",
    "12. Examples and exercises for incorporating ChatGPT into a modern Python development workflow\n",
    "```\n",
    "\n",
    "## Code samples\n",
    "\n",
    "### Starting Example Code\n",
    "\n"
   ]
  },
  {
   "cell_type": "code",
   "execution_count": 1,
   "metadata": {},
   "outputs": [
    {
     "data": {
      "text/plain": [
       "2"
      ]
     },
     "execution_count": 1,
     "metadata": {},
     "output_type": "execute_result"
    }
   ],
   "source": [
    "def factorial(n: int) -> int:\n",
    "    if n == 0:\n",
    "        return 1\n",
    "    else:\n",
    "        return n * factorial(n-1)\n",
    "    \n",
    "factorial(2)"
   ]
  },
  {
   "attachments": {},
   "cell_type": "markdown",
   "metadata": {},
   "source": [
    "### Code with Documentation\n"
   ]
  },
  {
   "cell_type": "code",
   "execution_count": null,
   "metadata": {},
   "outputs": [],
   "source": [
    "def factorial(n: int) -> int:\n",
    "    \"\"\"\n",
    "    Calculate the factorial of a number.\n",
    "\n",
    "    Args:\n",
    "        n: The number to calculate the factorial of.\n",
    "\n",
    "    Returns:\n",
    "        The factorial of the number.\n",
    "    \"\"\"\n",
    "    if n == 0:\n",
    "        return 1\n",
    "    else:\n",
    "        return n * factorial(n-1)"
   ]
  },
  {
   "attachments": {},
   "cell_type": "markdown",
   "metadata": {},
   "source": [
    "### Code with Tests"
   ]
  },
  {
   "cell_type": "code",
   "execution_count": null,
   "metadata": {},
   "outputs": [],
   "source": [
    "\n",
    "def test_factorial():\n",
    "    assert factorial(0) == 1\n",
    "    assert factorial(1) == 1\n",
    "    assert factorial(5) == 120\n",
    "    assert factorial(-1) == None\n",
    "    assert factorial(0.5) == None\n",
    "    assert factorial(10) == 3628800\n",
    "    assert factorial(20) == 2432902008176640000\n",
    "\"\"\"\n",
    "Exercise 1:\n",
    "\n",
    "Use ChatGPT to generate test cases for your code. You can provide the function signature and expected output, and ChatGPT can generate test cases that cover different edge cases and scenarios.\n",
    "\"\"\"\n"
   ]
  },
  {
   "attachments": {},
   "cell_type": "markdown",
   "metadata": {},
   "source": [
    "# Conclusion\n",
    "\n",
    "* We won't be out of a job (yet)\n",
    "\n",
    "> Note:\n",
    ">\n",
    "> If you use `pinecone` backend and if you run AutoGPT over multiple days, then pinecone will delete the index if you are not active every day. Then it is back to square one."
   ]
  }
 ],
 "metadata": {
  "kernelspec": {
   "display_name": "Python 3",
   "language": "python",
   "name": "python3"
  },
  "language_info": {
   "codemirror_mode": {
    "name": "ipython",
    "version": 3
   },
   "file_extension": ".py",
   "mimetype": "text/x-python",
   "name": "python",
   "nbconvert_exporter": "python",
   "pygments_lexer": "ipython3",
   "version": "3.10.11"
  },
  "orig_nbformat": 4
 },
 "nbformat": 4,
 "nbformat_minor": 2
}
